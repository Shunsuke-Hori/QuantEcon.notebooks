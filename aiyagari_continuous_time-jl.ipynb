{
 "cells": [
  {
   "cell_type": "markdown",
   "metadata": {},
   "source": [
    "# Aiyagari (1994) in Continuous Time with Julia\n",
    "\n",
    "## By [Shunsuke Hori](https://github.com/Shunsuke-Hori)"
   ]
  },
  {
   "cell_type": "code",
   "execution_count": 1,
   "metadata": {},
   "outputs": [
    {
     "data": {
      "text/plain": [
       "Plots.PyPlotBackend()"
      ]
     },
     "execution_count": 1,
     "metadata": {},
     "output_type": "execute_result"
    }
   ],
   "source": [
    "using QuantEcon\n",
    "using Plots\n",
    "pyplot()"
   ]
  },
  {
   "cell_type": "code",
   "execution_count": 2,
   "metadata": {
    "collapsed": true
   },
   "outputs": [],
   "source": [
    "mutable struct Household{TF<:AbstractFloat, TI<:Integer, TAV <: AbstractVector}\n",
    "    dep::TF\n",
    "    TFP::TF\n",
    "    alpha::TF\n",
    "    r::TF\n",
    "    w::TF\n",
    "    rho::TF\n",
    "    a_max::TF\n",
    "    a_min::TF\n",
    "    a_size::TI\n",
    "    a_vals::TAV\n",
    "    da::TF\n",
    "    pi::Array{TF,2}\n",
    "    z_vals::Vector{TF}\n",
    "    z_size::TI\n",
    "    z_ave::TF\n",
    "    z_transition::SparseMatrixCSC{TF,TI}\n",
    "    n::TI\n",
    "    delta::TF\n",
    "    v::Array{TF,2}\n",
    "    g::Matrix{TF}\n",
    "    ssf::Array{TF,2}\n",
    "    ssb::Array{TF,2}\n",
    "    A::SparseMatrixCSC{TF,TI}\n",
    "    B::SparseMatrixCSC{TF,TI}\n",
    "    b::Vector{TF}\n",
    "end"
   ]
  },
  {
   "cell_type": "code",
   "execution_count": 3,
   "metadata": {},
   "outputs": [
    {
     "data": {
      "text/plain": [
       "Household"
      ]
     },
     "execution_count": 3,
     "metadata": {},
     "output_type": "execute_result"
    }
   ],
   "source": [
    "function Household(;\n",
    "                 dep::AbstractFloat=0.05,   ###ADDED DEPRECIATION\n",
    "                 TFP::Real=0.1,\n",
    "                 alpha::AbstractFloat=0.33,\n",
    "                 r::AbstractFloat=0.03,      # interest rate\n",
    "                 w::AbstractFloat=1.0,       # wages\n",
    "                 rho::AbstractFloat=0.04,    # discount factor\n",
    "                 a_max::AbstractFloat=40.0,\n",
    "                 a_min::AbstractFloat=1e-10, # minimum asset amount\n",
    "                 a_size::Integer=1000,    # number of asset grid points\n",
    "                 pi::AbstractArray=[-0.33 0.33; 0.33 -0.33], # poisson Jumps\n",
    "                 z_vals::AbstractVector=[1.0, 2.0], # exogenous income states\n",
    "                 delta::AbstractFloat=1000.0)\n",
    "    # Initialize values, and set up grids over a and z\n",
    "    r, w, rho, dep = r, w, rho, dep\n",
    "    da = (a_max-a_min)/(a_size-1)\n",
    "    z_size = length(z_vals)\n",
    "    a_vals = linspace(a_min, a_max, a_size)\n",
    "    n = a_size * z_size\n",
    "    ###### ADDED TO MATCH LABOR SUPPLY IN .m\n",
    "    z_ave = (z_vals[1]*pi[1, 2] + z_vals[2]*pi[2, 1]) /\n",
    "                       (pi[1, 2] + pi[2, 1])\n",
    "\n",
    "    # Initial Guess of Value Function (z_size x a_size matrix)\n",
    "    v = log.(repmat(a_vals', z_size, 1)*r + w*repmat(z_vals, 1, a_size))/rho\n",
    "\n",
    "    # Build skill_transition, the matrix summarizing transitions due to the Poisson income shocks\n",
    "    # This is analogous to the Q matrix in the discrete time version of the QuantEcon Aiyagari model\n",
    "    z_transition = kron(pi, speye(a_size))\n",
    "\n",
    "    # Preallocation\n",
    "    g = similar(v)\n",
    "    ssf = zeros(v)\n",
    "    ssb = zeros(v)\n",
    "    A = similar(z_transition)\n",
    "    B = copy(z_transition)\n",
    "    b = Vector{Float64}(n)\n",
    "    return Household(\n",
    "    dep, TFP, alpha, r, w,\n",
    "    rho, a_max,\n",
    "    a_min,\n",
    "    a_size,\n",
    "    a_vals,\n",
    "    da,\n",
    "    pi,\n",
    "    z_vals,\n",
    "    z_size,\n",
    "    z_ave,\n",
    "    z_transition,\n",
    "    n,\n",
    "    delta,\n",
    "    v, g,\n",
    "    ssf, ssb, A, B, b)\n",
    "end\n"
   ]
  },
  {
   "cell_type": "code",
   "execution_count": 4,
   "metadata": {},
   "outputs": [
    {
     "data": {
      "text/plain": [
       "reinitialize_v!"
      ]
     },
     "execution_count": 4,
     "metadata": {},
     "output_type": "execute_result"
    }
   ],
   "source": [
    "\"\"\"\n",
    "Resets prices\n",
    "Calling the method will resolves the Bellman Equation.\n",
    "Parameters:\n",
    "-----------------\n",
    "- `r` : Interest rate\n",
    "- `w` : wage\n",
    "\"\"\"\n",
    "function  set_prices!(hh::Household, r::AbstractFloat, w::AbstractFloat;\n",
    "                       maxiter::Integer=100, crit::AbstractFloat = 1e-6)\n",
    "    hh.r, hh.w = r, w\n",
    "    solve_bellman!(hh, maxiter = maxiter, crit = crit)\n",
    "    return nothing\n",
    "end\n",
    "\n",
    "\"\"\"\n",
    "Reinitializes the value function if the value function\n",
    "became NaN\n",
    "\"\"\"\n",
    "function reinitialize_v!(hh::Household)\n",
    "    hh.v = log.(repmat(hh.a_vals', hh.z_size, 1)*hh.r +\n",
    "             hh.w * repmat(hh.z_vals, 1, hh.a_size))/hh.rho\n",
    "    return nothing\n",
    "end"
   ]
  },
  {
   "cell_type": "code",
   "execution_count": 5,
   "metadata": {},
   "outputs": [
    {
     "data": {
      "text/plain": [
       "solve_bellman!"
      ]
     },
     "execution_count": 5,
     "metadata": {},
     "output_type": "execute_result"
    }
   ],
   "source": [
    "\"\"\"\n",
    "This function solves the decision problem with the given parameters\n",
    "Parameters:\n",
    "-----------------\n",
    "- `maxiter` : maximum number of iteration before haulting value function iteration\n",
    "- `crit` : convergence metric, stops if value function does not change more than crit\n",
    "\"\"\"\n",
    "function solve_bellman!(hh::Household;\n",
    "                   maxiter::Integer=100, crit::AbstractFloat=1e-6)\n",
    "    A, B, v, ssf, ssb, b = hh.A, hh.B, hh.v, hh.ssf, hh.ssb, hh.b\n",
    "    a_vals, a_size, z_vals, z_size, r, w, da, n, delta, rho =\n",
    "        hh.a_vals, hh.a_size, hh.z_vals, hh.z_size, hh.r, hh.w,\n",
    "        hh.da, hh.n, hh.delta, hh.rho\n",
    "\n",
    "    dist = 100.0\n",
    "\n",
    "    for i in 1:maxiter\n",
    "        println(\"i = $i\")\n",
    "        # compute saving and consumption implied by current guess for value function, using upwind method\n",
    "        dv = (v[:, 2:end] .- v[:, 1:end-1])/da\n",
    "        cf = 1.0./dv\n",
    "        c0 = repmat(a_vals', z_size, 1)*r .+ w*repmat(z_vals, 1, a_size)\n",
    "        # computes savings with forward forward difference and backward difference\n",
    "        ssf[:, 1:end-1] .= c0[:, 1:end-1] .- cf\n",
    "        ssb[:, 2:end] .= c0[:, 2:end] .- cf\n",
    "        # Note that the boundary conditions are handled implicitly as ssf will be zero at a_max and ssb at a_min\n",
    "        is_forward = ssf .> 0\n",
    "        is_backward = ssb .< 0\n",
    "        # Update consumption based on forward or backward difference based on direction of drift\n",
    "        c0[:, 1:end-1] .+= (cf .- c0[:, 1:end-1]) .* is_forward[:, 1:end-1]\n",
    "        c0[:, 2:end] .+= (cf .- c0[:, 2:end]) .* is_backward[:, 2:end]\n",
    "        u0 = log.(c0)\n",
    "        # Build the matrix A that summarizes the evolution of the process for (a,z)\n",
    "        # This is a Poisson transition matrix (aka intensity matrix) with rows adding up to zero\n",
    "        A .= hh.z_transition\n",
    "        diag_helper = vec((-ssf .* is_forward .+ ssb .* is_backward)')/da\n",
    "        A += spdiagm(diag_helper, 0, n, n)\n",
    "        diag_helper = vec((-ssb .* is_backward)')/da\n",
    "        A += spdiagm(diag_helper[2:end], -1, n, n)\n",
    "        diag_helper = vec((ssf .* is_forward)')/da\n",
    "        A += spdiagm(diag_helper[1:end-1], 1, n, n)\n",
    "        # Solve the system of linear equations corresponding to implicit finite difference scheme\n",
    "        B .= speye(n) * (1/delta + rho) .- A\n",
    "        b .= vec(u0') .+ vec(v')/delta\n",
    "        v_old = copy(v)\n",
    "        v .= reshape(\\(B, b), a_size, z_size)'\n",
    "        # Compute convergence metric and stop if it satisfies the convergence criterion\n",
    "        dist = maximum(abs, v_old .- v)\n",
    "        println(\"dist = $dist\")\n",
    "        if dist < crit\n",
    "            hh.A .= A\n",
    "            break\n",
    "        end\n",
    "    end\n",
    "end"
   ]
  },
  {
   "cell_type": "code",
   "execution_count": 6,
   "metadata": {},
   "outputs": [
    {
     "data": {
      "text/plain": [
       "compute_stationary_distribution!"
      ]
     },
     "execution_count": 6,
     "metadata": {},
     "output_type": "execute_result"
    }
   ],
   "source": [
    "\"\"\"\n",
    "Solves for the stationary distribution given household decision rules\n",
    "Output:\n",
    "Capital level from the stationary distribution\n",
    "\"\"\"\n",
    "function compute_stationary_distribution!(hh::Household)\n",
    "    g = hh.g\n",
    "    n, z_size, a_size, a_vals = hh.n, hh.z_size, hh.a_size, hh.a_vals\n",
    "\n",
    "    AT = copy(hh.A')\n",
    "    # The discretized Kolmogorov Forward equation AT*g=0 is an eigenvalue problem\n",
    "    # AT is singular because one of the equation is the distribution adding\n",
    "    # up to 1. Here we solve the eigenvalue problem by setting g(1,1)=0.1\n",
    "    # and the equation is solved relative to that value.\n",
    "    # Alternatively, one could use a routine for solving eigenvalue problems.\n",
    "    b = zeros(n)\n",
    "    b[1] = 0.1\n",
    "    AT[1, :] = 0.0   # set first row all zero\n",
    "    AT[1, 1] = 1.0   # set (1,1) element to be 1.0\n",
    "    dropzeros!(AT)\n",
    "    g .= reshape(\\(AT, b), a_size, z_size)'\n",
    "    # Since g was solved taking one of g(1,1) as given, g needs to be\n",
    "    # renormalized to add up to 1\n",
    "    g .= g/sum(g)\n",
    "    return sum(g .* a_vals')\n",
    "end\n"
   ]
  },
  {
   "cell_type": "code",
   "execution_count": 7,
   "metadata": {},
   "outputs": [
    {
     "data": {
      "text/plain": [
       "Household{Float64,Int64,StepRangeLen{Float64,Base.TwicePrecision{Float64},Base.TwicePrecision{Float64}}}(0.05, 0.1, 0.33, 0.02, 1.0, 0.05, 40.0, 1.0e-10, 1000, 1.0e-10:0.04004004003993994:40.0, 0.04004004003993994, [-0.11 0.11; 0.11 -0.11], [1.0, 2.0], 2, 1.5, \n",
       "  [1   ,    1]  =  -0.11\n",
       "  [1001,    1]  =  0.11\n",
       "  [2   ,    2]  =  -0.11\n",
       "  [1002,    2]  =  0.11\n",
       "  [3   ,    3]  =  -0.11\n",
       "  [1003,    3]  =  0.11\n",
       "  [4   ,    4]  =  -0.11\n",
       "  [1004,    4]  =  0.11\n",
       "  [5   ,    5]  =  -0.11\n",
       "  [1005,    5]  =  0.11\n",
       "  ⋮\n",
       "  [1995, 1995]  =  -0.11\n",
       "  [996 , 1996]  =  0.11\n",
       "  [1996, 1996]  =  -0.11\n",
       "  [997 , 1997]  =  0.11\n",
       "  [1997, 1997]  =  -0.11\n",
       "  [998 , 1998]  =  0.11\n",
       "  [1998, 1998]  =  -0.11\n",
       "  [999 , 1999]  =  0.11\n",
       "  [1999, 1999]  =  -0.11\n",
       "  [1000, 2000]  =  0.11\n",
       "  [2000, 2000]  =  -0.11, 2000, 1000.0, [3.99991e-11 0.0160096 … 11.7468 11.7557; 13.8629 13.871 … 20.5867 20.5924], [2.22428e-320 0.0 … 1.15152e-315 1.15152e-315; 1.97626e-323 2.31964e-320 … 0.0 6.95229e-310], [0.0 0.0 … 0.0 0.0; 0.0 0.0 … 0.0 0.0], [0.0 0.0 … 0.0 0.0; 0.0 0.0 … 0.0 0.0], \n",
       "  [1   ,    1]  =  2.7172e-315\n",
       "  [1001,    1]  =  2.73078e-315\n",
       "  [2   ,    2]  =  8.15801e-320\n",
       "  [1002,    2]  =  1.15183e-315\n",
       "  [3   ,    3]  =  1.15478e-315\n",
       "  [1003,    3]  =  1.15186e-315\n",
       "  [4   ,    4]  =  NaN\n",
       "  [1004,    4]  =  6.16519e-316\n",
       "  [5   ,    5]  =  5.22127e-315\n",
       "  [1005,    5]  =  1.01185e-320\n",
       "  ⋮\n",
       "  [1995, 1995]  =  0.0\n",
       "  [996 , 1996]  =  1.15512e-315\n",
       "  [1996, 1996]  =  1.1518e-315\n",
       "  [997 , 1997]  =  2.71058e-315\n",
       "  [1997, 1997]  =  1.15156e-315\n",
       "  [998 , 1998]  =  1.15481e-315\n",
       "  [1998, 1998]  =  1.15186e-315\n",
       "  [999 , 1999]  =  1.15481e-315\n",
       "  [1999, 1999]  =  1.15186e-315\n",
       "  [1000, 2000]  =  2.71011e-315\n",
       "  [2000, 2000]  =  1.15154e-315, \n",
       "  [1   ,    1]  =  -0.11\n",
       "  [1001,    1]  =  0.11\n",
       "  [2   ,    2]  =  -0.11\n",
       "  [1002,    2]  =  0.11\n",
       "  [3   ,    3]  =  -0.11\n",
       "  [1003,    3]  =  0.11\n",
       "  [4   ,    4]  =  -0.11\n",
       "  [1004,    4]  =  0.11\n",
       "  [5   ,    5]  =  -0.11\n",
       "  [1005,    5]  =  0.11\n",
       "  ⋮\n",
       "  [1995, 1995]  =  -0.11\n",
       "  [996 , 1996]  =  0.11\n",
       "  [1996, 1996]  =  -0.11\n",
       "  [997 , 1997]  =  0.11\n",
       "  [1997, 1997]  =  -0.11\n",
       "  [998 , 1998]  =  0.11\n",
       "  [1998, 1998]  =  -0.11\n",
       "  [999 , 1999]  =  0.11\n",
       "  [1999, 1999]  =  -0.11\n",
       "  [1000, 2000]  =  0.11\n",
       "  [2000, 2000]  =  -0.11, [NaN, 9.06621e-318, NaN, 0.0, NaN, 3.30267e-317, NaN, 0.0, NaN, 3.01126e-317  …  NaN, 9.71374e-318, NaN, 0.0, NaN, 1.84561e-317, NaN, 1.10089e-317, NaN, 1.84561e-317])"
      ]
     },
     "execution_count": 7,
     "metadata": {},
     "output_type": "execute_result"
    }
   ],
   "source": [
    "lam = 0.11\n",
    "PI = [-lam lam; lam -lam]\n",
    "am = Household(rho=0.05, r=0.02, w=1.0, pi=PI)"
   ]
  },
  {
   "cell_type": "code",
   "execution_count": 8,
   "metadata": {},
   "outputs": [
    {
     "name": "stdout",
     "output_type": "stream",
     "text": [
      "i = 1\n",
      "dist = 7.103006777890267\n",
      "i = 2\n",
      "dist = 1.4307639380779484\n",
      "i = 3\n",
      "dist = 0.35979365967417287\n",
      "i = 4\n",
      "dist = 0.15224764849882355\n",
      "i = 5\n",
      "dist = 0.07945166667344417\n",
      "i = 6\n",
      "dist = 0.0812135305006958\n",
      "i = 7\n",
      "dist = 0.08865369860560257\n",
      "i = 8\n",
      "dist = 0.09407830082802882\n",
      "i = 9\n",
      "dist = 0.03212325665573701\n",
      "i = 10\n",
      "dist = 0.0188089268062841\n",
      "i = 11\n",
      "dist = 0.012767723153269905\n",
      "i = 12\n",
      "dist = 0.007439765965876255\n",
      "i = 13\n",
      "dist = 0.003367241542981958\n",
      "i = 14\n",
      "dist = 0.0008499861506257034\n",
      "i = 15\n",
      "dist = 5.9713168446329234e-5\n",
      "i = 16\n",
      "dist = 8.390977930261556e-7\n"
     ]
    }
   ],
   "source": [
    "solve_bellman!(am)"
   ]
  },
  {
   "cell_type": "code",
   "execution_count": 9,
   "metadata": {},
   "outputs": [
    {
     "data": {
      "text/html": [
       "0.6927464134085219"
      ],
      "text/plain": [
       "0.6927464134085219"
      ]
     },
     "execution_count": 9,
     "metadata": {},
     "output_type": "execute_result"
    }
   ],
   "source": [
    "compute_stationary_distribution!(am)"
   ]
  },
  {
   "cell_type": "code",
   "execution_count": 10,
   "metadata": {},
   "outputs": [
    {
     "data": {
      "text/html": [
       "0.9"
      ],
      "text/plain": [
       "0.9"
      ]
     },
     "execution_count": 10,
     "metadata": {},
     "output_type": "execute_result"
    }
   ],
   "source": [
    "am.r = 0.02\n",
    "am.w = 0.9"
   ]
  },
  {
   "cell_type": "code",
   "execution_count": 11,
   "metadata": {},
   "outputs": [
    {
     "name": "stdout",
     "output_type": "stream",
     "text": [
      "i = 1\n",
      "dist = 2.1353272979475566\n",
      "i = 2\n",
      "dist = 0.027446300398164425\n",
      "i = 3\n",
      "dist = 0.001194626263002263\n",
      "i = 4\n",
      "dist = 3.758397711628447e-5\n",
      "i = 5\n",
      "dist = 6.100745340020808e-7\n"
     ]
    }
   ],
   "source": [
    "solve_bellman!(am)"
   ]
  },
  {
   "cell_type": "code",
   "execution_count": 12,
   "metadata": {},
   "outputs": [
    {
     "data": {
      "text/html": [
       "0.6232372053476747"
      ],
      "text/plain": [
       "0.6232372053476747"
      ]
     },
     "execution_count": 12,
     "metadata": {},
     "output_type": "execute_result"
    }
   ],
   "source": [
    "compute_stationary_distribution!(am)"
   ]
  },
  {
   "cell_type": "code",
   "execution_count": 13,
   "metadata": {},
   "outputs": [
    {
     "name": "stdout",
     "output_type": "stream",
     "text": [
      "i = 1\n",
      "dist = 1.1193557800694194\n",
      "i = 2\n",
      "dist = 0.07187401303638907\n",
      "i = 3\n",
      "dist = 0.0011349287670903152\n",
      "i = 4\n",
      "dist = 1.6790426538904057e-5\n",
      "i = 5\n",
      "dist = 2.582649720750396e-7\n"
     ]
    }
   ],
   "source": [
    "set_prices!(am, 0.03, 0.9)"
   ]
  },
  {
   "cell_type": "code",
   "execution_count": 14,
   "metadata": {},
   "outputs": [
    {
     "data": {
      "text/html": [
       "1.1298333088364119"
      ],
      "text/plain": [
       "1.1298333088364119"
      ]
     },
     "execution_count": 14,
     "metadata": {},
     "output_type": "execute_result"
    }
   ],
   "source": [
    "compute_stationary_distribution!(am)"
   ]
  },
  {
   "cell_type": "code",
   "execution_count": 15,
   "metadata": {},
   "outputs": [
    {
     "data": {
      "text/plain": [
       "rd (generic function with 1 method)"
      ]
     },
     "execution_count": 15,
     "metadata": {},
     "output_type": "execute_result"
    }
   ],
   "source": [
    "r_to_w(hh::Household, r::Real) =\n",
    "    hh.TFP*(1 - hh.alpha)*(hh.alpha*hh.TFP / (hh.dep + r))^(hh.alpha / (1 - hh.alpha))\n",
    "rd(hh::Household, K::Real) =\n",
    "    hh.TFP*hh.alpha*(hh.z_ave / K)^(1 - hh.alpha) - hh.dep"
   ]
  },
  {
   "cell_type": "code",
   "execution_count": 16,
   "metadata": {},
   "outputs": [
    {
     "data": {
      "text/plain": [
       "prices_to_capital_stock!"
      ]
     },
     "execution_count": 16,
     "metadata": {},
     "output_type": "execute_result"
    }
   ],
   "source": [
    "\"\"\"\n",
    "Map prices to the induced level of capital stock.\n",
    "Parameters:\n",
    "----------\n",
    "- `hh` : `Household`\n",
    "         An instance of the Household type\n",
    "- `r` : `Real`\n",
    "        The interest rate\n",
    "\"\"\"\n",
    "function prices_to_capital_stock!(hh::Household, r::Real;\n",
    "                                   maxiter::Integer=100,\n",
    "                                   crit::AbstractFloat=1e-6)\n",
    "    w = r_to_w(hh, r)\n",
    "\n",
    "    # Set new prices and solve the Bellman equation\n",
    "    set_prices!(hh, r, w, maxiter = maxiter, crit = crit)\n",
    "\n",
    "    # Compute the stationary distribution and capital\n",
    "    return compute_stationary_distribution!(hh)\n",
    "end"
   ]
  },
  {
   "cell_type": "code",
   "execution_count": 17,
   "metadata": {},
   "outputs": [
    {
     "name": "stdout",
     "output_type": "stream",
     "text": [
      "i = 1\n",
      "dist = 58.412624665207524\n",
      "i = 2\n",
      "dist = 14.364561351479773\n",
      "i = 3\n",
      "dist = 4.584470437320341\n",
      "i = 4\n",
      "dist = 1.2410047745011852\n",
      "i = 5\n",
      "dist = 0.3380062532356689\n",
      "i = 6\n",
      "dist = 0.12115648642142673\n",
      "i = 7\n",
      "dist = 0.05757198437972022\n",
      "i = 8\n",
      "dist = 0.011853550926439027\n",
      "i = 9\n",
      "dist = 0.0006181473565547435\n",
      "i = 10\n",
      "dist = 1.0593918723600382e-5\n",
      "i = 11\n",
      "dist = 1.9019021380017875e-7\n",
      "i = 1\n",
      "dist = 0.48116499190575235\n",
      "i = 2\n",
      "dist = 0.008514221244595443\n",
      "i = 3\n",
      "dist = 0.0001395708118594463\n",
      "i = 4\n",
      "dist = 2.105860890555533e-6\n",
      "i = 5\n",
      "dist = 2.8221386561000372e-8\n",
      "i = 1\n",
      "dist = 0.48884916856712257\n",
      "i = 2\n",
      "dist = 0.008754800682958752\n",
      "i = 3\n",
      "dist = 0.00014681841223307401\n",
      "i = 4\n",
      "dist = 2.294172869454769e-6\n",
      "i = 5\n",
      "dist = 3.2504454239301594e-8\n",
      "i = 1\n",
      "dist = 0.49612012791591376\n",
      "i = 2\n",
      "dist = 0.008985330561340987\n",
      "i = 3\n",
      "dist = 0.00015398287074575023\n",
      "i = 4\n",
      "dist = 2.4916307204136956e-6\n",
      "i = 5\n",
      "dist = 3.743358156782506e-8\n",
      "i = 1\n",
      "dist = 0.502953557028496\n",
      "i = 2\n",
      "dist = 0.009202928950964306\n",
      "i = 3\n",
      "dist = 0.00016074013403244436\n",
      "i = 4\n",
      "dist = 2.6747492949397156e-6\n",
      "i = 5\n",
      "dist = 4.1773093428787433e-8\n",
      "i = 1\n",
      "dist = 0.5093274675743045\n",
      "i = 2\n",
      "dist = 0.009407205842953736\n",
      "i = 3\n",
      "dist = 0.00016716476083455944\n",
      "i = 4\n",
      "dist = 2.8537355918345497e-6\n",
      "i = 5\n",
      "dist = 4.6220987925948975e-8\n",
      "i = 1\n",
      "dist = 0.5152264414198262\n",
      "i = 2\n",
      "dist = 0.009597673159777997\n",
      "i = 3\n",
      "dist = 0.00017324932804374527\n",
      "i = 4\n",
      "dist = 3.029172114032974e-6\n",
      "i = 5\n",
      "dist = 5.083574805553326e-8\n",
      "i = 1\n",
      "dist = 0.5206430106139974\n",
      "i = 2\n",
      "dist = 0.009773085037024565\n",
      "i = 3\n",
      "dist = 0.00017885189244548627\n",
      "i = 4\n",
      "dist = 3.190899946936554e-6\n",
      "i = 5\n",
      "dist = 5.508880995819254e-8\n",
      "i = 1\n",
      "dist = 0.5255780109737911\n",
      "i = 2\n",
      "dist = 0.009933485342505932\n",
      "i = 3\n",
      "dist = 0.0001840000636352812\n",
      "i = 4\n",
      "dist = 3.3421884602091723e-6\n",
      "i = 5\n",
      "dist = 5.921443513301483e-8\n",
      "i = 1\n",
      "dist = 0.5300424122848408\n",
      "i = 2\n",
      "dist = 0.01007871961318152\n",
      "i = 3\n",
      "dist = 0.00018864662894912954\n",
      "i = 4\n",
      "dist = 3.4788538982866157e-6\n",
      "i = 5\n",
      "dist = 6.296981425180093e-8\n",
      "i = 1\n",
      "dist = 0.5340568635308642\n",
      "i = 2\n",
      "dist = 0.010209212192757278\n",
      "i = 3\n",
      "dist = 0.00019280156958778605\n",
      "i = 4\n",
      "dist = 3.601048897294845e-6\n",
      "i = 5\n",
      "dist = 6.636025950967905e-8\n",
      "i = 1\n",
      "dist = 0.537650926081934\n",
      "i = 2\n",
      "dist = 0.01032594295385536\n",
      "i = 3\n",
      "dist = 0.0001964801394684912\n",
      "i = 4\n",
      "dist = 3.7086050230783485e-6\n",
      "i = 5\n",
      "dist = 6.934271112868373e-8\n",
      "i = 1\n",
      "dist = 0.5408609477274684\n",
      "i = 2\n",
      "dist = 0.010429580516037262\n",
      "i = 3\n",
      "dist = 0.00019971212241465253\n",
      "i = 4\n",
      "dist = 3.802229961991088e-6\n",
      "i = 5\n",
      "dist = 7.191786721705284e-8\n",
      "i = 1\n",
      "dist = 0.5437270840235033\n",
      "i = 2\n",
      "dist = 0.010521235623121683\n",
      "i = 3\n",
      "dist = 0.00020253559331351312\n",
      "i = 4\n",
      "dist = 3.883162275286622e-6\n",
      "i = 5\n",
      "dist = 7.411950697644443e-8\n",
      "i = 1\n",
      "dist = 0.5462899688335412\n",
      "i = 2\n",
      "dist = 0.010602134531401575\n",
      "i = 3\n",
      "dist = 0.00020499105290205932\n",
      "i = 4\n",
      "dist = 3.952749958457957e-6\n",
      "i = 5\n",
      "dist = 7.599231466315359e-8\n",
      "i = 1\n",
      "dist = 0.548587820191516\n",
      "i = 2\n",
      "dist = 0.010673500011799675\n",
      "i = 3\n",
      "dist = 0.00020711839668940968\n",
      "i = 4\n",
      "dist = 4.0122303737177845e-6\n",
      "i = 5\n",
      "dist = 7.75767610150524e-8\n",
      "i = 1\n",
      "dist = 0.5506546579835216\n",
      "i = 2\n",
      "dist = 0.01073649031977375\n",
      "i = 3\n",
      "dist = 0.00020895625153549702\n",
      "i = 4\n",
      "dist = 4.062728077514066e-6\n",
      "i = 5\n",
      "dist = 7.890441011682015e-8\n",
      "i = 1\n",
      "dist = 0.5525197971458073\n",
      "i = 2\n",
      "dist = 0.010792163622364015\n",
      "i = 3\n",
      "dist = 0.00021054185600810627\n",
      "i = 4\n",
      "dist = 4.1053608264007835e-6\n",
      "i = 5\n",
      "dist = 8.00048542970444e-8\n",
      "i = 1\n",
      "dist = 0.5542082059309994\n",
      "i = 2\n",
      "dist = 0.010841462393312185\n",
      "i = 3\n",
      "dist = 0.0002119100948476671\n",
      "i = 4\n",
      "dist = 4.1412533224871595e-6\n",
      "i = 5\n",
      "dist = 8.091029179979614e-8\n",
      "i = 1\n",
      "dist = 0.5557411565315764\n",
      "i = 2\n",
      "dist = 0.010885212175510972\n",
      "i = 3\n",
      "dist = 0.00021309233582655907\n",
      "i = 4\n",
      "dist = 4.171462771651591e-6\n",
      "i = 5\n",
      "dist = 8.16531944280996e-8\n"
     ]
    },
    {
     "data": {
      "text/plain": [
       "20-element Array{Float64,1}:\n",
       " 0.0272353\n",
       " 0.0287409\n",
       " 0.0329915\n",
       " 0.0366467\n",
       " 0.0396432\n",
       " 0.0441632\n",
       " 0.0488313\n",
       " 0.0541102\n",
       " 0.0600183\n",
       " 0.0672299\n",
       " 0.0754847\n",
       " 0.0853036\n",
       " 0.0972495\n",
       " 0.112065 \n",
       " 0.131019 \n",
       " 0.156268 \n",
       " 0.191844 \n",
       " 0.246303 \n",
       " 0.341641 \n",
       " 0.557325 "
      ]
     },
     "execution_count": 17,
     "metadata": {},
     "output_type": "execute_result"
    }
   ],
   "source": [
    "# Compute supply of capital\n",
    "r_vals = linspace(0.02, 0.048, 20)\n",
    "k_vals = prices_to_capital_stock!.(am, r_vals)"
   ]
  },
  {
   "cell_type": "code",
   "execution_count": 18,
   "metadata": {},
   "outputs": [
    {
     "data": {
      "text/html": [
       "<img src=\"data:image/png;base64,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\" />"
      ]
     },
     "execution_count": 18,
     "metadata": {},
     "output_type": "execute_result"
    }
   ],
   "source": [
    "# Plot supply and demand of capital\n",
    "p = plot(size = (600, 400), grid = true)\n",
    "plot!(p, k_vals, r_vals, lab = \"supply of capital\")\n",
    "plot!(p, k_vals, rd.(am, k_vals), lab = \"demand for capital\")\n",
    "plot!(p, lw = 2, alpha = 2, leg = :topright)\n",
    "plot!(p, xlabel = \"capital\", ylabel = \"interest rate\")"
   ]
  },
  {
   "cell_type": "code",
   "execution_count": 19,
   "metadata": {},
   "outputs": [
    {
     "data": {
      "text/plain": [
       "r_error (generic function with 1 method)"
      ]
     },
     "execution_count": 19,
     "metadata": {},
     "output_type": "execute_result"
    }
   ],
   "source": [
    "function r_error(am::Household, r::Real;\n",
    "                  maxiter::Integer=100, crit::AbstractFloat=1e-6)\n",
    "    set_prices!(am, r, r_to_w(am, r), maxiter = maxiter, crit = crit)\n",
    "    r_new = rd(am, compute_stationary_distribution!(am))\n",
    "    return r_new - r\n",
    "end"
   ]
  },
  {
   "cell_type": "code",
   "execution_count": 20,
   "metadata": {},
   "outputs": [
    {
     "name": "stdout",
     "output_type": "stream",
     "text": [
      "i = 1\n",
      "dist = 10.12773511885143\n",
      "i = 2\n",
      "dist = 1.1367214213794767\n",
      "i = 3\n",
      "dist = 0.0954121327508517\n",
      "i = 4\n",
      "dist = 0.012664252449361868\n",
      "i = 5\n",
      "dist = 0.00031442703381401316\n",
      "i = 6\n",
      "dist = 5.038447987715244e-6\n",
      "i = 7\n",
      "dist = 9.582290516618741e-8\n",
      "i = 1\n",
      "dist = 10.75944321295667\n",
      "i = 2\n",
      "dist = 1.4761243332702492\n",
      "i = 3\n",
      "dist = 0.12327812389541748\n",
      "i = 4\n",
      "dist = 0.002540473185561609\n",
      "i = 5\n",
      "dist = 4.65770248752051e-5\n",
      "i = 6\n",
      "dist = 8.728252680612059e-7\n",
      "i = 1\n",
      "dist = 5.596973354753294\n",
      "i = 2\n",
      "dist = 0.4282724093010728\n",
      "i = 3\n",
      "dist = 0.015393180166221043\n",
      "i = 4\n",
      "dist = 0.00031279402674755374\n",
      "i = 5\n",
      "dist = 5.674373383612874e-6\n",
      "i = 6\n",
      "dist = 1.0991569610041552e-7\n",
      "i = 1\n",
      "dist = 2.767493808054992\n",
      "i = 2\n",
      "dist = 0.10582621712654117\n",
      "i = 3\n",
      "dist = 0.0020404233099213798\n",
      "i = 4\n",
      "dist = 3.95258444214619e-5\n",
      "i = 5\n",
      "dist = 7.670457762287697e-7\n",
      "i = 1\n",
      "dist = 1.4059346970053852\n",
      "i = 2\n",
      "dist = 0.033204243202376915\n",
      "i = 3\n",
      "dist = 0.0006502434202104723\n",
      "i = 4\n",
      "dist = 1.2519709706282356e-5\n",
      "i = 5\n",
      "dist = 2.416165116869706e-7\n",
      "i = 1\n",
      "dist = 0.7045312926304934\n",
      "i = 2\n",
      "dist = 0.01369851462439442\n",
      "i = 3\n",
      "dist = 0.00026674960436956496\n",
      "i = 4\n",
      "dist = 5.189721379750267e-6\n",
      "i = 5\n",
      "dist = 1.0084938750765104e-7\n",
      "i = 1\n",
      "dist = 0.35189735990581994\n",
      "i = 2\n",
      "dist = 0.0068711712949642845\n",
      "i = 3\n",
      "dist = 0.00013408410926274428\n",
      "i = 4\n",
      "dist = 2.61534036916089e-6\n",
      "i = 5\n",
      "dist = 5.098539723746853e-8\n",
      "i = 1\n",
      "dist = 0.17620527693244092\n",
      "i = 2\n",
      "dist = 0.003440745627541375\n",
      "i = 3\n",
      "dist = 6.718181564124848e-5\n",
      "i = 4\n",
      "dist = 1.3112991261721163e-6\n",
      "i = 5\n",
      "dist = 2.558364720073314e-8\n",
      "i = 1\n",
      "dist = 0.08816445379433624\n",
      "i = 2\n",
      "dist = 0.0017216485696547323\n",
      "i = 3\n",
      "dist = 3.3625385166047295e-5\n",
      "i = 4\n",
      "dist = 6.565426353688508e-7\n",
      "i = 1\n",
      "dist = 0.04409741290802671\n",
      "i = 2\n",
      "dist = 0.0008611414048633748\n",
      "i = 3\n",
      "dist = 1.6821247900367098e-5\n",
      "i = 4\n",
      "dist = 3.284925362834201e-7\n",
      "i = 1\n",
      "dist = 0.022050052330301995\n",
      "i = 2\n",
      "dist = 0.00043049741296030675\n",
      "i = 3\n",
      "dist = 8.408363607159686e-6\n",
      "i = 4\n",
      "dist = 1.6418378478988416e-7\n",
      "i = 1\n",
      "dist = 0.011024091212387788\n",
      "i = 2\n",
      "dist = 0.00021522887435487803\n",
      "i = 3\n",
      "dist = 4.203644826006325e-6\n",
      "i = 4\n",
      "dist = 8.207796398096434e-8\n",
      "i = 1\n",
      "dist = 0.005511957379773946\n",
      "i = 2\n",
      "dist = 0.00010761896595390397\n",
      "i = 3\n",
      "dist = 2.101963284317776e-6\n",
      "i = 4\n",
      "dist = 4.104289352824253e-8\n",
      "i = 1\n",
      "dist = 0.0027560392351446694\n",
      "i = 2\n",
      "dist = 5.3810759192529645e-5\n",
      "i = 3\n",
      "dist = 1.0510158823251459e-6\n",
      "i = 4\n",
      "dist = 2.0522328725292027e-8\n",
      "i = 1\n",
      "dist = 0.0013780241289165218\n",
      "i = 2\n",
      "dist = 2.6905077428196478e-5\n",
      "i = 3\n",
      "dist = 5.25498782266709e-7\n",
      "i = 1\n",
      "dist = 0.0006890188414185872\n",
      "i = 2\n",
      "dist = 1.34526650015232e-5\n",
      "i = 3\n",
      "dist = 2.627512838415669e-7\n",
      "i = 1\n",
      "dist = 0.0003445085000368664\n",
      "i = 2\n",
      "dist = 6.726313038996068e-6\n",
      "i = 3\n",
      "dist = 1.3137510279648268e-7\n",
      "i = 1\n",
      "dist = 0.00017225401981768584\n",
      "i = 2\n",
      "dist = 3.3631516576093645e-6\n",
      "i = 3\n",
      "dist = 6.56874146187647e-8\n",
      "i = 1\n",
      "dist = 8.612695236465129e-5\n",
      "i = 2\n",
      "dist = 1.6815746004539278e-6\n",
      "i = 3\n",
      "dist = 3.28436779994945e-8\n",
      "i = 1\n",
      "dist = 4.30621886149396e-5\n",
      "i = 2\n",
      "dist = 8.407625635697968e-7\n",
      "i = 1\n",
      "dist = 2.151499681879443e-5\n",
      "i = 2\n",
      "dist = 4.200668772824656e-7\n",
      "i = 1\n",
      "dist = 1.0773910755546012e-5\n",
      "i = 2\n",
      "dist = 2.1035389607959587e-7\n",
      "i = 1\n",
      "dist = 5.386961404951762e-6\n",
      "i = 2\n",
      "dist = 1.0517705639756514e-7\n",
      "i = 1\n",
      "dist = 2.6934806438561054e-6\n",
      "i = 2\n",
      "dist = 5.258853441603151e-8\n",
      "i = 1\n",
      "dist = 1.3467403086053764e-6\n",
      "i = 2\n",
      "dist = 2.6294262767123655e-8\n",
      "i = 1\n",
      "dist = 6.733701543026882e-7\n",
      "i = 1\n",
      "dist = 3.4957545125280376e-7\n",
      "i = 1\n",
      "dist = 1.7503946914132484e-7\n",
      "i = 1\n",
      "dist = 8.068950840822708e-8\n",
      "i = 1\n",
      "dist = 4.3628940460394006e-8\n",
      "i = 1\n",
      "dist = 2.187860559388355e-8\n",
      "i = 1\n",
      "dist = 1.094055868122723e-8\n",
      "i = 1\n",
      "dist = 5.470299768717268e-9\n",
      "i = 1\n",
      "dist = 2.735156101607572e-9\n",
      "i = 1\n",
      "dist = 1.3675656163059102e-9\n",
      "i = 1\n",
      "dist = 6.837925781155718e-10\n",
      "i = 1\n",
      "dist = 3.418936245225268e-10\n"
     ]
    },
    {
     "data": {
      "text/html": [
       "0.04605980008753249"
      ],
      "text/plain": [
       "0.04605980008753249"
      ]
     },
     "execution_count": 20,
     "metadata": {},
     "output_type": "execute_result"
    }
   ],
   "source": [
    "r_min = 0.02\n",
    "r_max = 0.05\n",
    "bisect(r -> r_error(am, r), r_min, r_max)"
   ]
  },
  {
   "cell_type": "code",
   "execution_count": 21,
   "metadata": {
    "scrolled": false
   },
   "outputs": [
    {
     "data": {
      "text/html": [
       "<img src=\"data:image/png;base64,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\" />"
      ]
     },
     "execution_count": 21,
     "metadata": {},
     "output_type": "execute_result"
    }
   ],
   "source": [
    "# Plot stationary distribution at the equilibrium\n",
    "n = 50 # Determine the max asset level to show in the plot\n",
    "p = plot(size = (600, 400), grid = true)\n",
    "plot!(p, am.a_vals[1:n], am.g[:,1:n]', lw=2, alpha=0.6, lab=[\"low income\" \"high income\"])\n",
    "plot!(p, leg=:topright)\n",
    "plot!(p, xlabel = \"asset position\", ylabel = \"distribution\")"
   ]
  },
  {
   "cell_type": "code",
   "execution_count": 22,
   "metadata": {},
   "outputs": [
    {
     "data": {
      "text/html": [
       "0.04605980008753249"
      ],
      "text/plain": [
       "0.04605980008753249"
      ]
     },
     "execution_count": 22,
     "metadata": {},
     "output_type": "execute_result"
    }
   ],
   "source": [
    "am.r"
   ]
  },
  {
   "cell_type": "code",
   "execution_count": null,
   "metadata": {
    "collapsed": true
   },
   "outputs": [],
   "source": []
  },
  {
   "cell_type": "code",
   "execution_count": null,
   "metadata": {
    "collapsed": true
   },
   "outputs": [],
   "source": []
  }
 ],
 "metadata": {
  "hide_input": false,
  "kernelspec": {
   "display_name": "Julia 0.6.0",
   "language": "julia",
   "name": "julia-0.6"
  },
  "language_info": {
   "file_extension": ".jl",
   "mimetype": "application/julia",
   "name": "julia",
   "version": "0.6.0"
  },
  "toc": {
   "colors": {
    "hover_highlight": "#DAA520",
    "running_highlight": "#FF0000",
    "selected_highlight": "#FFD700"
   },
   "moveMenuLeft": true,
   "nav_menu": {
    "height": "68px",
    "width": "252px"
   },
   "navigate_menu": true,
   "number_sections": true,
   "sideBar": true,
   "threshold": 4,
   "toc_cell": false,
   "toc_section_display": "block",
   "toc_window_display": false
  }
 },
 "nbformat": 4,
 "nbformat_minor": 2
}
